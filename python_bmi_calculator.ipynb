{
 "cells": [
  {
   "cell_type": "markdown",
   "id": "ab97853c-542d-4ee3-81ed-4b22338f50fb",
   "metadata": {},
   "source": [
    "# BMI Calculator\n"
   ]
  },
  {
   "cell_type": "code",
   "execution_count": 4,
   "id": "5a7ff159-579a-4fb2-9785-821637d474e2",
   "metadata": {},
   "outputs": [
    {
     "name": "stdin",
     "output_type": "stream",
     "text": [
      "Enter you name:  d\n",
      "Enter your weight in pounds:  1231\n",
      "Enter your height in inches:  2\n"
     ]
    },
    {
     "name": "stdout",
     "output_type": "stream",
     "text": [
      "216348.25\n",
      "d, you are morbidly obese. I'll see you on my 300 pound life\n"
     ]
    }
   ],
   "source": [
    "name = input(\"Enter you name: \")\n",
    "\n",
    "weight = int(input(\"Enter your weight in pounds: \"))\n",
    "\n",
    "height = int(input(\"Enter your height in inches: \"))\n",
    "\n",
    "BMI = (weight * 703) / (height * height)\n",
    "\n",
    "print(BMI)\n",
    "\n",
    "if BMI>0:\n",
    "    if(BMI<18.5):\n",
    "        print(name +\", you are underwight.\")\n",
    "    elif (BMI<=24.9):\n",
    "        print(name +\", you are normal weight.\")\n",
    "    elif (BMI<29.9):\n",
    "        print(name +\", you are overweight. You need to hit the gym big guy.\")\n",
    "    elif (BMI<34.9):\n",
    "        print(name +\", you are obese. You need to hit the gym and try to do some cardio here and there\")\n",
    "    elif (BMI<39.9):\n",
    "        print(name +\", you are severely obese. You need to start trying your best to eat different foods, hit the gym, and do some cardio\")\n",
    "    else:\n",
    "        print(name +\", you are morbidly obese. I'll see you on my 300 pound life\")\n",
    "else:\n",
    "    print(\"Enter valid input\")"
   ]
  },
  {
   "cell_type": "code",
   "execution_count": null,
   "id": "f0d93e4f-53ec-4a1f-8fc8-6d266ba2dbd9",
   "metadata": {},
   "outputs": [],
   "source": []
  },
  {
   "cell_type": "code",
   "execution_count": null,
   "id": "78e3ac98-1259-4606-aabd-07cda7e95d0e",
   "metadata": {},
   "outputs": [],
   "source": []
  },
  {
   "cell_type": "code",
   "execution_count": null,
   "id": "db3b918e-1c68-4626-a6bc-9a1be7c44d57",
   "metadata": {},
   "outputs": [],
   "source": []
  },
  {
   "cell_type": "code",
   "execution_count": null,
   "id": "89ca0683-38c4-46e0-87bc-9c027c9b21e5",
   "metadata": {},
   "outputs": [],
   "source": [
    "#BMI = (weight in pounds x 703) / (height in inches x height in inches)"
   ]
  },
  {
   "cell_type": "code",
   "execution_count": null,
   "id": "9ad84d61-3894-4fe1-b43f-8c4fb91acb5c",
   "metadata": {},
   "outputs": [],
   "source": [
    "print(weight)"
   ]
  },
  {
   "cell_type": "markdown",
   "id": "33a4b17f-a499-47ea-b834-e99159c0516c",
   "metadata": {},
   "source": [
    "Under 18.5\tUnderweight\tMinimal\n",
    "18.5 - 24.9\tNormal Weight\tMinimal\n",
    "25 - 29.9\tOverweight\tIncreased\n",
    "30 - 34.9\tObese\tHigh\n",
    "35 - 39.9\tSeverely Obese\tVery High\n",
    "40 and over\tMorbidly Obese\tExtremely High"
   ]
  },
  {
   "cell_type": "code",
   "execution_count": 9,
   "id": "a6926e6d-62d4-4e00-8dec-18b5ce3fb7b5",
   "metadata": {},
   "outputs": [
    {
     "name": "stdout",
     "output_type": "stream",
     "text": [
      "d, you are morbidly obese.\n"
     ]
    }
   ],
   "source": [
    "if BMI>0:\n",
    "    if(BMI<18.5):\n",
    "        print(name +\", you are underwight.\")\n",
    "    elif (BMI<=24.9):\n",
    "        print(name +\", you are normal weight.\")\n",
    "    elif (BMI<29.9):\n",
    "        print(name +\", you are overweight.\")\n",
    "    elif (BMI<34.9):\n",
    "        print(name +\", you are obese.\")\n",
    "    elif (BMI<39.9):\n",
    "        print(name +\", you are severely obese.\")\n",
    "    else:\n",
    "        print(name +\", you are morbidly obese.\")\n",
    "else:\n",
    "    print(\"Enter valid input\")"
   ]
  },
  {
   "cell_type": "code",
   "execution_count": null,
   "id": "46bbc47a-a37b-4d23-b8d1-78a9757cf62d",
   "metadata": {},
   "outputs": [],
   "source": []
  },
  {
   "cell_type": "code",
   "execution_count": null,
   "id": "2bf7f17d-5e76-4463-9333-354b67837dfb",
   "metadata": {},
   "outputs": [],
   "source": []
  }
 ],
 "metadata": {
  "kernelspec": {
   "display_name": "Python 3 (ipykernel)",
   "language": "python",
   "name": "python3"
  },
  "language_info": {
   "codemirror_mode": {
    "name": "ipython",
    "version": 3
   },
   "file_extension": ".py",
   "mimetype": "text/x-python",
   "name": "python",
   "nbconvert_exporter": "python",
   "pygments_lexer": "ipython3",
   "version": "3.11.7"
  }
 },
 "nbformat": 4,
 "nbformat_minor": 5
}
